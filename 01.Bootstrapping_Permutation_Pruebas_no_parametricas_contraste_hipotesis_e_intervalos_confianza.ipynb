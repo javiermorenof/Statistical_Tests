{
 "cells": [
  {
   "cell_type": "markdown",
   "metadata": {},
   "source": [
    "# Test de permutación y test de bootstrapping: Pruebas no paramétricas de contraste de hipótesis y establecimiento de intervalos de confianza \n",
    "\n",
    "Fuentes:\n",
    "- [cienciadedatos.net](https://www.cienciadedatos.net/documentos/pystats04-bootstrapping-python.html)\n",
    "- [DataCamp - Statistical Thinking in Pyhton (Part II)](https://learn.datacamp.com/courses/statistical-thinking-in-python-part-2)\n",
    "\n",
    "https://towardsdatascience.com/bootstrapping-vs-permutation-testing-a30237795970"
   ]
  },
  {
   "cell_type": "markdown",
   "metadata": {},
   "source": [
    "## Tabla de contenidos\n",
    "\n",
    "1. [Introducción](#subparagraph2)\n",
    "    1. [¿Qué son los test no paramétricos?](#subparagraph2)\n",
    "2. [Resampling y bootstrapping como alternativa a los test no paramétricos](#subparagraph2)"
   ]
  },
  {
   "cell_type": "code",
   "execution_count": 46,
   "metadata": {},
   "outputs": [],
   "source": [
    "import numpy as np\n",
    "import pandas as pd\n",
    "import seaborn as sns\n",
    "import matplotlib.pyplot as plt\n",
    "from statsmodels.graphics.gofplots import qqplot"
   ]
  },
  {
   "cell_type": "markdown",
   "metadata": {},
   "source": [
    "### Introducción\n",
    "\n",
    "Cuando nos enfrentamos a un conjunto de datos, siempre debemos comenzar realizando un análisis exploratorio (EDA - Exploratory Data Analysis) de los mismos. En él, una de las preguntas que debemos responder es qué tipo de distribución siguen los datos. Esta pregunta no debe obviarse, ya que muchos test y pruebas estadísticas asumen la normalidad de los datos. En caso de que nos encontremos ante datos que no siguen una normalidad, debemos realizar pruebas no paramétricas.\n",
    "\n",
    "Además ,como regla general, cuando la variable dependiente es categórica (nominal) u ordinal, se debe seleccionar un test no-paramétrico. Cuando la variable dependiente es continua, debemos mirar su distribución para elegir un test paramétrico o no paramétrico.\n",
    "\n",
    "¿Qué ocurre entonces si nuestro conjunto de datos no sigue una distribución normal? Pues como se ha comentado, hay dos opciones:\n",
    "- Utilizar un test no paramétrico\n",
    "- Intentar la transformación del conjunto de datos a una distribuición normal. Una de las soluciones más usadas en este sentido es la transformación logarítmica.\n",
    "\n",
    "La mayoría de test paramétricos tienen su homólogo no paramétrico, como se puede ver en la tabla a continuación. Cuando la distribución no es normal, se suele utilizar la mediana en vez de la media.\n",
    "\n",
    "- <span style=\"background-color: #FFFF00\">**Test estadísticos para comparar medias / medianas entre uno, dos o más grupos**</span>\n",
    "\n",
    "![tests](https://www.biochemia-medica.com/assets/images/upload/Clanci/20/20-1/comparing_groups/bm-20-15.png?1535748515419)\n",
    "\n",
    "- <span style=\"background-color: #FFFF00\">**Test estadísticos para estudiar la relación entre variables**</span>\n",
    "\n",
    "![tests](pics/non-para2.png)"
   ]
  },
  {
   "cell_type": "markdown",
   "metadata": {},
   "source": [
    "### Bootstrapping como alternativa a los tets no paramétricos\n",
    "\n",
    "El desarrollo de potentes ordenadores ha permitido alternativas a estos tests estadísticos en muchos casos y es donde entran en escena el **bootstrapping**.\n",
    "\n",
    "Los métodos estadísticos basados en muestreo repetido (resampling) se engloban dentro de la estadística no paramétrica, ya que no requieren de ninguna asunción sobre la distribución de las poblaciones estudiadas. Son, por lo tanto, una alternativa a los test paramétricos (t-test, ANOVA,…) cuando no se satisfacen sus condiciones o cuando se quiere hacer inferencia sobre un parámetro distinto a la media. Uno de los métodos de resampling más utilizados es el **bootstrapping**.\n",
    "\n",
    "Desde el punto de vista teórico, el escenario ideal para realizar inferencia sobre una población es disponer de infinitas (o una gran cantidad) de muestras de dicha población. Si para cada muestra se calcula el estadístico de interés, por ejemplo, la media, se obtiene lo que se conoce como distribución muestral. Esta distribución tiene dos características: su promedio tiende a converger con el valor real del parámetro poblacional, y su dispersión permite conocer el error esperado al estimar el estadístico con una muestra de un tamaño determinado.\n",
    "\n",
    "En la práctica, no suele ser posible acceder a múltiples muestras. Si solo se dispone de una muestra, y esta es representativa de la población, cabe esperar que los valores en la muestra aparezcan aproximadamente con la misma frecuencia que en la población. El método de bootstrapping (Bradley Efron, 1979)) se basa en generar nuevas pseudo-muestras, del mismo tamaño que la muestra original, mediante muestreo repetido (sampling with replacement) de los datos disponibles.\n",
    "\n",
    "Queda representado de la siguiente manera, como recoge Joaquín Amat Rodrigo:\n",
    "\n",
    "![tests](pics/bootstrapping.png)\n",
    "\n",
    "**La estrategia de bootstrapping se puede emplear para resolver varios problemas:**\n",
    "\n",
    "- Calcular intervalos de confianza de un parámetro poblacional.\n",
    "\n",
    "- Calcular la significancia estadística (p-value) de la diferencia entre poblaciones.\n",
    "\n",
    "- Calcular intervalos de confianza para la diferencia entre poblaciones.\n",
    "\n",
    "En cada uno, la hipótesis nula es distinta y, por lo tanto, la simulación de muestreo que tiene que realizarse. Esto significa que, aunque similares, el algoritmo debe adaptarse a cada caso de uso. En los siguientes apartados se muestran ejemplos de distintas aplicaciones."
   ]
  },
  {
   "cell_type": "markdown",
   "metadata": {},
   "source": [
    "### Los test de permutación o Permutation Test\n",
    "\n",
    "Además de los test de Bootstrapping, se deben señalar los test de permutaciones. El test de permutaciones es un **test de significancia estadística para el estudio de diferencias entre grupos**. Fue desarrollado por Ronald Fisher y E.J.G. Pitman en 1930. La distribución del estadístico estudiado (media, mediana…) se obtiene calculando el valor de dicho estadístico para todas las posibles reorganizaciones de las observaciones en los distintos grupos. Dado que implica calcular todas las posibles situaciones, se trata de un test exacto.\n",
    "\n",
    "Para ilustrar la idea de los test de permutación se plantea un experimento simple. Supóngase un conjunto de sujetos que se distribuye en dos grupos, A y B, de tamaños nA y nB, cuyas medias muestrales tras realizar el experimento resultan ser x¯A y x¯B. Se desea determinar si existe una diferencia significativa entre la media de los dos grupos, o lo que es lo mismo, comprobar si hay evidencias en contra de la hipótesis nula de que la diferencia observada es debida, únicamente, a la asignación aleatoria de los sujetos a los dos grupos y que ambas muestras proceden realmente de la misma población. \n",
    "\n",
    "Para solucionarlo se aplica un test de permutación:\n",
    "\n",
    "- En primer lugar, se calcula la diferencia entre las medias de los dos grupos, lo que se conoce como **diferencia observada** \n",
    "- Todas las observaciones se combinan juntas sin tener en cuenta el grupo al que pertenecían.\n",
    "- Se calculan todas las posibles permutaciones en las que las observaciones pueden ser distribuidas en dos grupos de tamaño nA y nB. Como esto en la práctica es imposible en muchos casos, se realizan miles de combinaciones aleatorias (Simulación de Monte Carlo). Eso implica que el resultado del p-valor no es exacto, sino aproximado.\n",
    "- Para cada permutación, se calcula la diferencia entre medias. El conjunto de valores calculados forman la distribución exacta de las posibles diferencias siendo cierta la hipótesis nula. A esta distribución se le conoce como permutation distribution of the mean difference.\n",
    "- El p-value de dos colas se calcula como la proporción de permutaciones en las que, el valor absoluto de la diferencia calculada, es mayor o igual al valor absoluto de la diferencia observada.\n",
    "\n",
    "**Nota**: En este ejemplo se emplea como estadístico la media pero podría ser cualquier otro (mediana, varianza…)\n",
    "\n",
    "**Assumptions de los Test de permutación**. La condición necesaria para un test de permutaciones se conoce como exchangeability, según la cual, todas las posibles permutaciones tienen la misma probabilidad de ocurrir siendo cierta la hipótesis nula. Las conclusiones de un test de permutación solo son aplicables a diseños de tipo experimental, en los que, tras haber elegido los sujetos del estudio, se realiza una asignación aleatoria a los diferentes grupos.\n",
    "\n",
    "**Apunte final** Los test de permutación son test de significancia y por lo tanto se emplean para calcular p-values, no para intervalos de confianza."
   ]
  },
  {
   "cell_type": "markdown",
   "metadata": {},
   "source": [
    "## ¿Cuándo usar un test de permutación o un test bootstrap?\n",
    "\n",
    "- La naturaleza de un test de permutación es diferente la de uno de bootstrap: **el test de Bootstrap analiza si dos muestras pueden hipotéticamente venir de la misma población**.\n",
    "- Los test de permutación son test de significancia, se emplean para obtener p-values, no para intervalos de confianza.\n",
    "- Los test de permutación generalmente se realizan cuando se sospecha que algo puede deberse al azar.\n",
    "- Los test de bootstrapping se pueden utilizar para obtener p-values, pero se emplea cuando la aleatoriedad es debida al proceso de obtención de las muestras y no a la asignación en grupos.\n",
    "\n",
    "Con todo ello los **test de permutación deben utilizarse para**:\n",
    "- Los test de permutación deben utilizarse para analizar la presencia o ausencia de efectos y comprobar si los elementos vienen de una misma población (por ejemplo, un A/B testing para el desarrollo de una página web, donde se analiza si la diferencia en el número de clicks se debe al azar o no).\n",
    "- Los test de permutación exigen tener muestras de ambos grupos. No se pueden utilizar si de una solo tienes la media o la mediana, como se verá a continuación.\n",
    "\n",
    "**Los test de bootstrapping deben utilizarse para**:\n",
    "- Cuantificar hipótesis de efectos conocidos.\n",
    "- Comparar medias/medianas cuando de uno de los grupos solo se tiene la media/mediana y no el conjunto de datos.\n",
    "- Determinar intervalos de confianza de manera no paramétrica."
   ]
  },
  {
   "cell_type": "markdown",
   "metadata": {},
   "source": [
    "### Ejemplo I. Test de permutación. Las ranas de Kleintheich y Gorb\n",
    "\n",
    "Kleinteich y Gorb (Sci. Rep., 4, 5225, 2014) realizaron un experimento muy interesante en Sudamérica con ranas cornudas y midieron la fuerza de impacto de su lengua con las moscas que cazaban.\n",
    "\n",
    "La rana A es una rana adulta y la rana B es una rana joven. Los investigadores midieron la fuerza de 20 impactos por cada rana. En el siguiente ejemplo se va evaluar si las ranas adultas y jóvenes tienen la misma distribución en la fuerza de impacto."
   ]
  },
  {
   "cell_type": "code",
   "execution_count": 16,
   "metadata": {},
   "outputs": [
    {
     "data": {
      "text/html": [
       "<div>\n",
       "<style scoped>\n",
       "    .dataframe tbody tr th:only-of-type {\n",
       "        vertical-align: middle;\n",
       "    }\n",
       "\n",
       "    .dataframe tbody tr th {\n",
       "        vertical-align: top;\n",
       "    }\n",
       "\n",
       "    .dataframe thead th {\n",
       "        text-align: right;\n",
       "    }\n",
       "</style>\n",
       "<table border=\"1\" class=\"dataframe\">\n",
       "  <thead>\n",
       "    <tr style=\"text-align: right;\">\n",
       "      <th></th>\n",
       "      <th>ID</th>\n",
       "      <th>impact_force</th>\n",
       "    </tr>\n",
       "  </thead>\n",
       "  <tbody>\n",
       "    <tr>\n",
       "      <td>0</td>\n",
       "      <td>A</td>\n",
       "      <td>1.612</td>\n",
       "    </tr>\n",
       "    <tr>\n",
       "      <td>1</td>\n",
       "      <td>A</td>\n",
       "      <td>0.605</td>\n",
       "    </tr>\n",
       "    <tr>\n",
       "      <td>2</td>\n",
       "      <td>A</td>\n",
       "      <td>0.327</td>\n",
       "    </tr>\n",
       "    <tr>\n",
       "      <td>3</td>\n",
       "      <td>A</td>\n",
       "      <td>0.946</td>\n",
       "    </tr>\n",
       "    <tr>\n",
       "      <td>4</td>\n",
       "      <td>A</td>\n",
       "      <td>0.541</td>\n",
       "    </tr>\n",
       "  </tbody>\n",
       "</table>\n",
       "</div>"
      ],
      "text/plain": [
       "  ID  impact_force\n",
       "0  A         1.612\n",
       "1  A         0.605\n",
       "2  A         0.327\n",
       "3  A         0.946\n",
       "4  A         0.541"
      ]
     },
     "execution_count": 16,
     "metadata": {},
     "output_type": "execute_result"
    }
   ],
   "source": [
    "ID = list(['A','A', 'A', 'A', 'A','A','A','A','A','A','A','A','A','A','A','A','A','A','A','A','B','B','B','B','B','B','B','B','B',\n",
    "           'B','B','B','B','B','B','B','B','B','B','B'])\n",
    "\n",
    "impact_force = list([1.612,0.605,0.327,0.946,0.541,1.539,0.529,0.628,1.453,0.297,0.703,0.269,0.751,0.245,1.182,0.515,\n",
    "                     0.435,0.383,0.457,0.73,0.172,0.142,0.037,0.453,0.355,0.022,0.502,0.273,0.72,0.582,0.198,0.198,\n",
    "                     0.597,0.516,0.815,0.402,0.605,0.711,0.614,0.468])\n",
    "\n",
    "rana_df = {'ID': ID, 'impact_force':impact_force}\n",
    "rana_df = pd.DataFrame(df)\n",
    "rana_df.head()"
   ]
  },
  {
   "cell_type": "code",
   "execution_count": 17,
   "metadata": {},
   "outputs": [
    {
     "data": {
      "image/png": "[encoded data removed]",
      "text/plain": [
       "<Figure size 432x288 with 1 Axes>"
      ]
     },
     "metadata": {},
     "output_type": "display_data"
    }
   ],
   "source": [
    "#Se realiza un análisis exploratorio de los datos\n",
    "sns.set()\n",
    "\n",
    "_ = sns.boxplot(x = 'ID', y = 'impact_force', data = rana_df)"
   ]
  },
  {
   "cell_type": "markdown",
   "metadata": {},
   "source": [
    "Se puede ver la existencia de varios outliers en el grupo A."
   ]
  },
  {
   "cell_type": "code",
   "execution_count": 24,
   "metadata": {},
   "outputs": [],
   "source": [
    "def get_statistics(data):\n",
    "    \"Return mean, median, standard deviation and variance from a group of data\"\n",
    "    mean = np.mean(data)\n",
    "    median = np.median(data)\n",
    "    variance = np.var(data)\n",
    "    sd = np.std(data)\n",
    "    \n",
    "    return mean, median, variance, sd"
   ]
  },
  {
   "cell_type": "code",
   "execution_count": 31,
   "metadata": {},
   "outputs": [
    {
     "name": "stdout",
     "output_type": "stream",
     "text": [
      "0.7073500000000001 0.573 0.17124932749999994 0.4138228213861579\n",
      "0.4191 0.4605 0.05240319 0.22891743052900101\n"
     ]
    }
   ],
   "source": [
    "mean_a, median_a, variance_a, sd_a = get_statistics(rana_df[rana_df['ID'] == 'A']['impact_force'])\n",
    "mean_b, median_b, variance_b, sd_b = get_statistics(rana_df[rana_df['ID'] == 'B']['impact_force'])\n",
    "print(mean_a, median_a, variance_a, sd_a)\n",
    "print(mean_b, median_b, variance_b, sd_b)"
   ]
  },
  {
   "cell_type": "code",
   "execution_count": 29,
   "metadata": {},
   "outputs": [
    {
     "data": {
      "text/html": [
       "<div>\n",
       "<style scoped>\n",
       "    .dataframe tbody tr th:only-of-type {\n",
       "        vertical-align: middle;\n",
       "    }\n",
       "\n",
       "    .dataframe tbody tr th {\n",
       "        vertical-align: top;\n",
       "    }\n",
       "\n",
       "    .dataframe thead th {\n",
       "        text-align: right;\n",
       "    }\n",
       "</style>\n",
       "<table border=\"1\" class=\"dataframe\">\n",
       "  <thead>\n",
       "    <tr style=\"text-align: right;\">\n",
       "      <th></th>\n",
       "      <th>ID</th>\n",
       "      <th>impact_force</th>\n",
       "    </tr>\n",
       "  </thead>\n",
       "  <tbody>\n",
       "    <tr>\n",
       "      <td>0</td>\n",
       "      <td>A</td>\n",
       "      <td>1.612</td>\n",
       "    </tr>\n",
       "    <tr>\n",
       "      <td>5</td>\n",
       "      <td>A</td>\n",
       "      <td>1.539</td>\n",
       "    </tr>\n",
       "    <tr>\n",
       "      <td>8</td>\n",
       "      <td>A</td>\n",
       "      <td>1.453</td>\n",
       "    </tr>\n",
       "  </tbody>\n",
       "</table>\n",
       "</div>"
      ],
      "text/plain": [
       "  ID  impact_force\n",
       "0  A         1.612\n",
       "5  A         1.539\n",
       "8  A         1.453"
      ]
     },
     "execution_count": 29,
     "metadata": {},
     "output_type": "execute_result"
    }
   ],
   "source": [
    "#Vamos a comprobar los outliers. Los outliers en un BoxPlot se encuentran a 1.5 sd\n",
    "rana_df[rana_df['impact_force'] > (mean_a + 1.5 * sd_a)]"
   ]
  },
  {
   "cell_type": "code",
   "execution_count": 40,
   "metadata": {
    "scrolled": true
   },
   "outputs": [
    {
     "data": {
      "image/png": "[encoded data removed]",
      "text/plain": [
       "<Figure size 432x288 with 1 Axes>"
      ]
     },
     "metadata": {},
     "output_type": "display_data"
    }
   ],
   "source": [
    "# Vamos a ver la distribución de los datos\n",
    "\n",
    "a_frogs = rana_df[rana_df['ID'] == 'A']['impact_force']\n",
    "b_frogs = rana_df[rana_df['ID'] == 'B']['impact_force']\n",
    "\n",
    "_ = sns.distplot(a_frogs, color = 'blue')\n",
    "_ = sns.distplot(b_frogs, color = 'red')"
   ]
  },
  {
   "cell_type": "code",
   "execution_count": 121,
   "metadata": {},
   "outputs": [
    {
     "data": {
      "image/png": "[encoded data removed]",
      "text/plain": [
       "<Figure size 432x288 with 1 Axes>"
      ]
     },
     "metadata": {},
     "output_type": "display_data"
    }
   ],
   "source": [
    "def ecdf(data):\n",
    "    \"\"\"Compute ECDF for a one-dimensional array of measurements.\"\"\"\n",
    "    # Number of data points: n\n",
    "    n = len(data)\n",
    "\n",
    "    # x-data for the ECDF: x\n",
    "    x = np.sort(data)\n",
    "\n",
    "    # y-data for the ECDF: y\n",
    "    y = np.arange(1, len(x)+1) / n\n",
    "\n",
    "    return x, y\n",
    "\n",
    "# Compute x,y values for ECDFs\n",
    "x_control, y_control = ecdf(a_frogs)\n",
    "x_treated, y_treated = ecdf(b_frogs)\n",
    "\n",
    "# Plot the ECDFs\n",
    "plt.plot(x_control, y_control, marker='.', linestyle='none')\n",
    "plt.plot(x_treated, y_treated, marker='.', linestyle='none')\n",
    "\n",
    "# Set the margins\n",
    "plt.margins(0.02)\n",
    "\n",
    "# Add a legend\n",
    "plt.legend(('frogs_a', 'frogs_b'), loc='lower right')\n",
    "\n",
    "# Label axes and show plot\n",
    "plt.xlabel('Impact Force')\n",
    "plt.ylabel('ECDF')\n",
    "plt.show()"
   ]
  },
  {
   "cell_type": "markdown",
   "metadata": {},
   "source": [
    "En el ECDF se puede intuir una mayor fuerza de impacto en las ranas A."
   ]
  },
  {
   "cell_type": "code",
   "execution_count": 44,
   "metadata": {},
   "outputs": [
    {
     "data": {
      "image/png": "[encoded data removed]",
      "text/plain": [
       "<Figure size 432x288 with 1 Axes>"
      ]
     },
     "metadata": {},
     "output_type": "display_data"
    }
   ],
   "source": [
    "qqplot(a_frogs, line='s');"
   ]
  },
  {
   "cell_type": "code",
   "execution_count": 45,
   "metadata": {},
   "outputs": [
    {
     "data": {
      "image/png": "[encoded data removed]",
      "text/plain": [
       "<Figure size 432x288 with 1 Axes>"
      ]
     },
     "metadata": {},
     "output_type": "display_data"
    }
   ],
   "source": [
    "qqplot(b_frogs, line='s');"
   ]
  },
  {
   "cell_type": "markdown",
   "metadata": {},
   "source": [
    "Mientras que el grupo B parece seguir una distribución normal, el grupo A parece no seguirla. Se puede ver claramente skewness positiva tnto en su distribución como en el Q-Q Plot.\n",
    "\n",
    "Se va a comprobar normalidad con el test de Shapiro Wilk, más adecuado para N < 50, como es el caso."
   ]
  },
  {
   "cell_type": "code",
   "execution_count": 47,
   "metadata": {},
   "outputs": [],
   "source": [
    "from scipy.stats import shapiro"
   ]
  },
  {
   "cell_type": "code",
   "execution_count": 51,
   "metadata": {},
   "outputs": [
    {
     "name": "stdout",
     "output_type": "stream",
     "text": [
      "0.00685031758621335\n"
     ]
    }
   ],
   "source": [
    "stats, p_value = shapiro(a_frogs)\n",
    "print(p_value)"
   ]
  },
  {
   "cell_type": "code",
   "execution_count": 52,
   "metadata": {},
   "outputs": [
    {
     "name": "stdout",
     "output_type": "stream",
     "text": [
      "0.4997333586215973\n"
     ]
    }
   ],
   "source": [
    "stats, p_value = shapiro(b_frogs)\n",
    "print(p_value)"
   ]
  },
  {
   "cell_type": "markdown",
   "metadata": {},
   "source": [
    "Efectivamente, el grupo A no sigue una distribución normal. No podríamos realizar pruebas paramétricas."
   ]
  },
  {
   "cell_type": "code",
   "execution_count": 113,
   "metadata": {},
   "outputs": [
    {
     "name": "stdout",
     "output_type": "stream",
     "text": [
      "0.2882500000000002\n",
      "40\n",
      "p-value = 0.0109\n"
     ]
    }
   ],
   "source": [
    "# Computamos la diferencia observada\n",
    "dif_observada = mean_a - mean_b\n",
    "print(dif_observada)\n",
    "\n",
    "# Creamos un array que concatene ambas fuerzas de impacto sin distinguir el grupo\n",
    "frogs = np.concatenate((a_frogs, b_frogs))\n",
    "print(len(frogs))\n",
    "\n",
    "# Creamos una función para realizar los replicados mediante permutación\n",
    "\n",
    "def create_premutation_replicates (data_1, data_2, func, size=1):\n",
    "    \"\"\"Generate multiple permutation replicates.\"\"\"\n",
    "\n",
    "    # Creamos un array que va a contener el output\n",
    "    perm_replicates = np.empty(size)\n",
    "    \n",
    "    #Concatenamos ambos conjuntos de datos\n",
    "    data = np.concatenate((data_1, data_2))\n",
    "\n",
    "    for i in range(size):\n",
    "        \n",
    "        #Realizamos una permutación\n",
    "        permuted_data = np.random.permutation(data)    \n",
    "        \n",
    "        #Asignamos los elementos a cada permutation sample\n",
    "        perm_sample_1 = permuted_data[:len(data_1)]\n",
    "        perm_sample_2 = permuted_data[len(data_1):]\n",
    "        \n",
    "        perm_replicates[i] = func(perm_sample_1, perm_sample_2)\n",
    "\n",
    "    return perm_replicates\n",
    "\n",
    "def diff_of_means(data_1, data_2):\n",
    "    \"\"\"Difference in means of two arrays.\"\"\"\n",
    "\n",
    "    # The difference of means of data_1, data_2: diff\n",
    "    diff = np.mean(data_1) - np.mean(data_2)\n",
    "\n",
    "    return diff\n",
    "\n",
    "# Creamos 9999 réplicas de permutación, en las que se calculará la diferencia de medias entre grupos permutados\n",
    "# devolviendo un array de dimension 9999. Se indica 9.999 para aplicar luego el +1 al calcular el p-valor, aplicando\n",
    "# la corrección de continuidad sugerida por Davison and Hikley(1997)\n",
    "perm_replicates = create_premutation_replicates(a_frogs, b_frogs, diff_of_means, size = 9999)\n",
    "\n",
    "# Calculamos el p-value\n",
    "# El p-value será la suma de replicates que superan o igualan la diferencia observada, partido entre los 10.000 replicates\n",
    "p = np.sum(abs(perm_replicates) >= abs(dif_observada)) / (len(perm_replicates)+1)\n",
    "\n",
    "# Print the result\n",
    "print('p-value =', p)"
   ]
  },
  {
   "cell_type": "markdown",
   "metadata": {},
   "source": [
    "El p-valor nos dice que hay una probabilidad del 0.11% de que la dierencia de medias observadas sea la misma. Por lo tanto, se rechaza la hipótesis nula de que provengan de una misma población."
   ]
  },
  {
   "cell_type": "markdown",
   "metadata": {},
   "source": [
    "### Ejemplo II. Test de permutación. Los niños del colegio.\n",
    "\n",
    "Similar a un A/B testing, se quiere comprobar si la participación en actividades extraescolares aumenta la capacidad empática de los estudiantes. Para ello, el colegio ofrece un programa voluntario en el que cada participante se designa de forma aleatoria a un grupo “control” que no recibe clases extraescolares o a un grupo “tratamiento” que sí las recibe. A final del año, todos los sujetos del estudio realizan un examen que determina su capacidad empática. En vista de los resultados ¿Se puede considerar que las clases extraescolares tienen un impacto en cómo se relacionan socialmente (en promedio) los estudiantes?"
   ]
  },
  {
   "cell_type": "code",
   "execution_count": 69,
   "metadata": {},
   "outputs": [
    {
     "data": {
      "text/html": [
       "<div>\n",
       "<style scoped>\n",
       "    .dataframe tbody tr th:only-of-type {\n",
       "        vertical-align: middle;\n",
       "    }\n",
       "\n",
       "    .dataframe tbody tr th {\n",
       "        vertical-align: top;\n",
       "    }\n",
       "\n",
       "    .dataframe thead th {\n",
       "        text-align: right;\n",
       "    }\n",
       "</style>\n",
       "<table border=\"1\" class=\"dataframe\">\n",
       "  <thead>\n",
       "    <tr style=\"text-align: right;\">\n",
       "      <th></th>\n",
       "      <th>ID</th>\n",
       "      <th>Treatment</th>\n",
       "      <th>Aggress</th>\n",
       "      <th>Delinq</th>\n",
       "      <th>Victim</th>\n",
       "    </tr>\n",
       "  </thead>\n",
       "  <tbody>\n",
       "    <tr>\n",
       "      <td>0</td>\n",
       "      <td>1</td>\n",
       "      <td>0</td>\n",
       "      <td>63.162641</td>\n",
       "      <td>44.463082</td>\n",
       "      <td>64.429964</td>\n",
       "    </tr>\n",
       "    <tr>\n",
       "      <td>1</td>\n",
       "      <td>2</td>\n",
       "      <td>0</td>\n",
       "      <td>51.827282</td>\n",
       "      <td>76.813612</td>\n",
       "      <td>64.429964</td>\n",
       "    </tr>\n",
       "    <tr>\n",
       "      <td>2</td>\n",
       "      <td>3</td>\n",
       "      <td>0</td>\n",
       "      <td>74.498000</td>\n",
       "      <td>50.933188</td>\n",
       "      <td>41.541056</td>\n",
       "    </tr>\n",
       "    <tr>\n",
       "      <td>3</td>\n",
       "      <td>4</td>\n",
       "      <td>0</td>\n",
       "      <td>40.491922</td>\n",
       "      <td>44.463082</td>\n",
       "      <td>41.541056</td>\n",
       "    </tr>\n",
       "    <tr>\n",
       "      <td>4</td>\n",
       "      <td>5</td>\n",
       "      <td>0</td>\n",
       "      <td>56.361425</td>\n",
       "      <td>44.463082</td>\n",
       "      <td>52.985510</td>\n",
       "    </tr>\n",
       "  </tbody>\n",
       "</table>\n",
       "</div>"
      ],
      "text/plain": [
       "   ID  Treatment    Aggress     Delinq     Victim\n",
       "0   1          0  63.162641  44.463082  64.429964\n",
       "1   2          0  51.827282  76.813612  64.429964\n",
       "2   3          0  74.498000  50.933188  41.541056\n",
       "3   4          0  40.491922  44.463082  41.541056\n",
       "4   5          0  56.361425  44.463082  52.985510"
      ]
     },
     "execution_count": 69,
     "metadata": {},
     "output_type": "execute_result"
    }
   ],
   "source": [
    "df_school = pd.read_csv('https://raw.githubusercontent.com/JoaquinAmatRodrigo/Estadistica-con-R/master/datos/AfterSchool.csv')\n",
    "df_school.head()"
   ]
  },
  {
   "cell_type": "markdown",
   "metadata": {},
   "source": [
    "Como siempre, se comienza con un análisis exploratorio de los datos."
   ]
  },
  {
   "cell_type": "code",
   "execution_count": 73,
   "metadata": {},
   "outputs": [
    {
     "data": {
      "image/png": "[encoded data removed]",
      "text/plain": [
       "<Figure size 432x288 with 1 Axes>"
      ]
     },
     "metadata": {},
     "output_type": "display_data"
    }
   ],
   "source": [
    "_ = sns.boxplot(x = 'Treatment', y = 'Delinq', orient='v', data = df_school)"
   ]
  },
  {
   "cell_type": "code",
   "execution_count": 76,
   "metadata": {},
   "outputs": [
    {
     "data": {
      "image/png": "[encoded data removed]",
      "text/plain": [
       "<Figure size 432x288 with 1 Axes>"
      ]
     },
     "metadata": {},
     "output_type": "display_data"
    }
   ],
   "source": [
    "control_group = df_school[df_school['Treatment'] == 0]['Delinq']\n",
    "treatment_group = df_school[df_school['Treatment'] == 1]['Delinq']\n",
    "\n",
    "_ = sns.distplot(control_group)\n",
    "_ = sns.distplot(treatment_group)"
   ]
  },
  {
   "cell_type": "markdown",
   "metadata": {},
   "source": [
    "No se ve una clara diferencia entre los grupos. La distribución muestra un claro apuntalamiento en torno al valor 45 y una clara cola a la derecha (skewness = positiva).\n",
    "\n",
    "La distribución no es normal"
   ]
  },
  {
   "cell_type": "code",
   "execution_count": 77,
   "metadata": {},
   "outputs": [
    {
     "name": "stdout",
     "output_type": "stream",
     "text": [
      "2.9871777005732007e-19\n"
     ]
    }
   ],
   "source": [
    "stats, p_value = shapiro(control_group)\n",
    "print(p_value)"
   ]
  },
  {
   "cell_type": "code",
   "execution_count": 79,
   "metadata": {},
   "outputs": [
    {
     "name": "stdout",
     "output_type": "stream",
     "text": [
      "4.6470583529400015e-20\n"
     ]
    }
   ],
   "source": [
    "stats, p_value = shapiro(treatment_group)\n",
    "print(p_value)"
   ]
  },
  {
   "cell_type": "markdown",
   "metadata": {},
   "source": [
    "Dado que las observaciones no se distribuyen de forma normal, los test de hipótesis paramétricos no son adecuados. Como alternativa, se recurre a un test no paramétrico basado en resampling. Al tratarse de un diseño experimental en el que se ha partido de un conjunto de sujetos y se han asignado aleatoriamente a cada grupo, el test adecuado es el de permutaciones."
   ]
  },
  {
   "cell_type": "code",
   "execution_count": null,
   "metadata": {},
   "outputs": [],
   "source": [
    "# Computamos la diferencia observada\n",
    "dif_observada = np.mean(control_group) - np.mean(treatment_group)\n",
    "print(dif_observada)"
   ]
  },
  {
   "cell_type": "markdown",
   "metadata": {},
   "source": [
    "Determinar si la diferencia observada es significativa equivale a preguntarse cómo de probable es obtener esta diferencia si el tratamiento no tiene efecto y los estudiantes se han asignado de forma aleatoria en cada grupo. Para poder obtener la probabilidad exacta, se necesita generar todas las posibles permutaciones en las que, 356 sujetos, pueden repartirse en dos grupos, y calcular la diferencia de medias para cada una. El número de permutaciones posibles es muy elevado, (3.93x10^105), por lo que se recurre a una simulación de Monte Carlo. Como en el caso anterior:\n",
    "\n",
    "- Se reasignan aleatoriamente los sujetos a cada uno de los grupos manteniendo el tamaño original de cada uno.\n",
    "\n",
    "- Se calcula la diferencia de sus medias y se almacena el valor. Existen múltiples formas de realizar las permutaciones, lo importante es que mimeticen una asignación aleatoria de los grupos manteniendo el tamaño original.\n",
    "\n",
    "- Se repiten los pasos 1 y 2 n veces.\n",
    "\n",
    "- Se calcula el p_value como la proporción de permutaciones en las que, la diferencia absoluta obtenida, es igual o mayor a la observada."
   ]
  },
  {
   "cell_type": "code",
   "execution_count": 97,
   "metadata": {},
   "outputs": [
    {
     "name": "stdout",
     "output_type": "stream",
     "text": [
      "p-value = 0.0529\n"
     ]
    }
   ],
   "source": [
    "#Se cre un array con ambos grupos que servirá para hacer las permutaciones\n",
    "sample = np.concatenate((control_group, treatment_group))\n",
    "permuted_sample_1 = np.empty(len(control_group))\n",
    "permuted_sample_2 = np.empty(len(treatment_group))\n",
    "\n",
    "#Se crea un array vacío donde se almacenarán los resultados\n",
    "perm_replicates = np.empty(9999)\n",
    "\n",
    "#Se crea un bucle para realizar las permutaciones\n",
    "for k in range(9999):\n",
    "    permuted_data = np.random.permutation(sample)\n",
    "    \n",
    "    permuted_sample_1 = permuted_data[:len(control_group)]\n",
    "    permuted_sample_2 = permuted_data[len(control_group):]\n",
    "    \n",
    "    perm_replicates[k] = np.mean(permuted_sample_1) - np.mean(permuted_sample_2)"
   ]
  },
  {
   "cell_type": "markdown",
   "metadata": {},
   "source": [
    "Como era de esperar, si el tratamiento no es efectivo, la diferencia media entre grupos es muy próxima a cero (línea vertical roja en el gráfico de debajo)."
   ]
  },
  {
   "cell_type": "code",
   "execution_count": 100,
   "metadata": {},
   "outputs": [
    {
     "data": {
      "image/png": "[encoded data removed]",
      "text/plain": [
       "<Figure size 432x288 with 1 Axes>"
      ]
     },
     "metadata": {},
     "output_type": "display_data"
    }
   ],
   "source": [
    "_ = sns.distplot(perm_replicates)\n",
    "_ = plt.axvline(x = np.mean(perm_replicates), color = 'red')"
   ]
  },
  {
   "cell_type": "code",
   "execution_count": 101,
   "metadata": {},
   "outputs": [
    {
     "name": "stdout",
     "output_type": "stream",
     "text": [
      "p-value = 0.1036\n"
     ]
    }
   ],
   "source": [
    "# Calculamos el p-value\n",
    "# El p-value será la suma de replicates que superan o igualan la diferencia observada, partido entre los 10.000 replicates\n",
    "p = np.sum(abs(perm_replicates) > abs(dif_observada)) / (len(perm_replicates)+1) #El +1 es un término de corrección\n",
    "\n",
    "# Print the result\n",
    "print('p-value =', p)"
   ]
  },
  {
   "cell_type": "markdown",
   "metadata": {},
   "source": [
    "### Conclusión\n",
    "\n",
    "Los 356 sujetos del estudio fueron asignados de forma aleatoria a un grupo control (n=187) o a un grupo tratamiento (n=169) que asistió a clases extra escolares. Un test de permutación se empleó para determinar si existía una diferencia significativa en la capacidad empática promedio entre ambos grupos. El p-value fue calculado mediante una simulación de Monte Carlo con 9999 permutaciones usando la corrección de continuidad sugerida por Davison and Hikley(1997). El p-value obtenido muestra una evidencia muy débil en contra de la hipótesis nula de que el tratamiento no tiene efecto, sugiriendo que asistir a clases extra escolares no mejora la capacidad empática para los estudiantes que formaron parte del experimento. Siendo estadísticamente estrictos, no se puede extrapolar a la población de estudiantes ya que la selección de sujetos no fue aleatoria.\n",
    "\n",
    "\n",
    "A modo de comprobación, siendo los tamaños muestrales de más de 30 observaciones, el test paramétrico t-test debería dar un resultado similar.\n",
    "\n"
   ]
  },
  {
   "cell_type": "code",
   "execution_count": 105,
   "metadata": {},
   "outputs": [
    {
     "data": {
      "text/plain": [
       "Ttest_indResult(statistic=1.63790040929203, pvalue=0.10233098293705316)"
      ]
     },
     "execution_count": 105,
     "metadata": {},
     "output_type": "execute_result"
    }
   ],
   "source": [
    "from scipy.stats import ttest_ind\n",
    "\n",
    "ttest_ind(control_group, treatment_group)"
   ]
  },
  {
   "cell_type": "markdown",
   "metadata": {},
   "source": [
    "### Boostrapping para contrastar hipótesis cuando no se tienen muestras de ambos grupos\n",
    "\n",
    "Como se ha comentado antes, el bootstrapping es ligeramente diferente y se utiliza en diferentes situaciones. Una de ellas, es el contraste de hipótesis cuando no se tienen datos de ambos grupos.\n",
    "\n",
    "Pongamos un ejemplo volviendo al caso de las ranas ya expuesto:\n",
    "\n",
    "Se ha estudiado una nueva rana juvenil, llamada C, y se quiere saber si la rana B y C tienen fuerzas de impacto similares. Desafortunadamente no se tienen disponibles las muestras de la rana C, pero se sabe que su media es de 0.55 Newtowns. Como no se tienen esto datos, no se puedenn hacer permutaciones (**obviamente**) y por lo tanto, no se puede asegurar que las ranas B y C provienen de la misma ditribución.\n",
    "\n",
    "<span style=\"background-color: #FFFF00\">**La hipótesis que se plantea será diferente: la fuerza de impacto de la rana B es igual a la de la rana C.**</span>\n",
    "\n",
    "Por lo tanto, nuestro objetivo será calcular la probabilidad de obtener una media de impacto diferente a la obtenida en la rana B.\n",
    "\n",
    "\n",
    "Lo que se tendrá que hacer será:\n",
    "- Trasladar las fuerzas de impacto de la rana B hasta que su media sea igual a la de la rana C, es decir, 0.55N.\n",
    "- Tomar 9.999 muestras de bootrstrapping con la media de la fuerza trasladada.\n",
    "- Computar el p-valor.\n",
    "\n",
    "<span style=\"background-color: #FFFF00\">**Notar que se debería hacer un EDA o Análisis exploratorio antes, pero para agilizar, se va a omitir**</span>"
   ]
  },
  {
   "cell_type": "code",
   "execution_count": 116,
   "metadata": {},
   "outputs": [
    {
     "name": "stdout",
     "output_type": "stream",
     "text": [
      "p =  0.0049\n"
     ]
    }
   ],
   "source": [
    "# Se traslada la fuerza de impacto de la rana B, restando los valores a la media y sumando la fuerza media de la rana B\n",
    "translated_force_b = b_frogs - np.mean(b_frogs) + 0.55\n",
    "\n",
    "#Se crea un array vacío con los bootstrap replicates\n",
    "bs_replicates = np.empty(9999)\n",
    "bs_sample = np.empty(len(translated_force_b))\n",
    "\n",
    "for k in range(len(bs_replicates)):\n",
    "    bs_sample = np.random.choice(translated_force_b, len(translated_force_b))\n",
    "    bs_replicates[k] = np.mean(bs_sample)\n",
    "\n",
    "# Compute fraction of replicates that are less than the observed Frog B force: p\n",
    "p = np.sum(bs_replicates <= np.mean(b_frogs)) / (len(bs_replicates)+1)\n",
    "\n",
    "# Print the p-value\n",
    "print('p = ', p)"
   ]
  },
  {
   "cell_type": "markdown",
   "metadata": {},
   "source": [
    "### Bootstraping para contrastar hipótesis cuando se tienen muestras de ambos grupos\n",
    "\n",
    "En un estudio reciente, Straub et al. (Proc. Roy. Soc. B, 2016) investigaron el efecto de los neonicotinoides en el esperma de las abejas polinizadoras. \n",
    "\n",
    "Queremos estudiar si en promedio, las abejas tratadas con neonicotinoides tienen el mismo número de espera por milímetro que las abejas no tratadas.\n",
    "\n",
    "Como en este caso tenemos ambas muestras, debemos trasladarlas a la misma media."
   ]
  },
  {
   "cell_type": "code",
   "execution_count": 118,
   "metadata": {},
   "outputs": [],
   "source": [
    "control = np.array([ 4.159234,  4.408002,  0.172812,  3.498278,  3.104912,  5.164174,\n",
    "        6.615262,  4.633066,  0.170408,  2.65    ,  0.0875  ,  1.997148,\n",
    "        6.92668 ,  4.574932,  3.896466,  5.209814,  3.70625 ,  0.      ,\n",
    "        4.62545 ,  3.01444 ,  0.732652,  0.4     ,  6.518382,  5.225   ,\n",
    "        6.218742,  6.840358,  1.211308,  0.368252,  3.59937 ,  4.212158,\n",
    "        6.052364,  2.115532,  6.60413 ,  5.26074 ,  6.05695 ,  6.481172,\n",
    "        3.171522,  3.057228,  0.218808,  5.215112,  4.465168,  2.28909 ,\n",
    "        3.732572,  2.17087 ,  1.834326,  6.074862,  5.841978,  8.524892,\n",
    "        4.698492,  2.965624,  2.324206,  3.409412,  4.830726,  0.1     ,\n",
    "        0.      ,  4.101432,  3.478162,  1.009688,  4.999296,  4.32196 ,\n",
    "        0.299592,  3.606032,  7.54026 ,  4.284024,  0.057494,  6.036668,\n",
    "        2.924084,  4.150144,  1.256926,  4.666502,  4.806594,  2.52478 ,\n",
    "        2.027654,  2.52283 ,  4.735598,  2.033236,  0.      ,  6.177294,\n",
    "        2.601834,  3.544408,  3.6045  ,  5.520346,  4.80698 ,  3.002478,\n",
    "        3.559816,  7.075844, 10.      ,  0.139772,  6.17171 ,  3.201232,\n",
    "        8.459546,  0.17857 ,  7.088276,  5.496662,  5.415086,  1.932282,\n",
    "        3.02838 ,  7.47996 ,  1.86259 ,  7.838498,  2.242718,  3.292958,\n",
    "        6.363644,  4.386898,  8.47533 ,  4.156304,  1.463956,  4.533628,\n",
    "        5.573922,  1.29454 ,  7.547504,  3.92466 ,  5.820258,  4.118522,\n",
    "        4.125   ,  2.286698,  0.591882,  1.273124,  0.      ,  0.      ,\n",
    "        0.      , 12.22502 ,  7.601604,  5.56798 ,  1.679914,  8.77096 ,\n",
    "        5.823942,  0.258374,  0.      ,  5.899236,  5.486354,  2.053148,\n",
    "        3.25541 ,  2.72564 ,  3.364066,  2.43427 ,  5.282548,  3.963666,\n",
    "        0.24851 ,  0.347916,  4.046862,  5.461436,  4.066104,  0.      ,\n",
    "        0.065   ])\n",
    "\n",
    "treated = np.array([1.342686, 1.058476, 3.793784, 0.40428 , 4.528388, 2.142966,\n",
    "       3.937742, 0.1375  , 6.919164, 0.      , 3.597812, 5.196538,\n",
    "       2.78955 , 2.3229  , 1.090636, 5.323916, 1.021618, 0.931836,\n",
    "       2.78    , 0.412202, 1.180934, 2.8674  , 0.      , 0.064354,\n",
    "       3.008348, 0.876634, 0.      , 4.971712, 7.280658, 4.79732 ,\n",
    "       2.084956, 3.251514, 1.9405  , 1.566192, 0.58894 , 5.219658,\n",
    "       0.977976, 3.124584, 1.297564, 1.433328, 4.24337 , 0.880964,\n",
    "       2.376566, 3.763658, 1.918426, 3.74    , 3.841726, 4.69964 ,\n",
    "       4.386876, 0.      , 1.127432, 1.845452, 0.690314, 4.185602,\n",
    "       2.284732, 7.237594, 2.185148, 2.799124, 3.43218 , 0.63354 ,\n",
    "       1.142496, 0.586   , 2.372858, 1.80032 , 3.329306, 4.028804,\n",
    "       3.474156, 7.508752, 2.032824, 1.336556, 1.906496, 1.396046,\n",
    "       2.488104, 4.759114, 1.07853 , 3.19927 , 3.814252, 4.275962,\n",
    "       2.817056, 0.552198, 3.27194 , 5.11525 , 2.064628, 0.      ,\n",
    "       3.34101 , 6.177322, 0.      , 3.66415 , 2.352582, 1.531696])"
   ]
  },
  {
   "cell_type": "code",
   "execution_count": 119,
   "metadata": {},
   "outputs": [
    {
     "data": {
      "image/png": "[encoded data removed]",
      "text/plain": [
       "<Figure size 432x288 with 1 Axes>"
      ]
     },
     "metadata": {},
     "output_type": "display_data"
    }
   ],
   "source": [
    "def ecdf(data):\n",
    "    \"\"\"Compute ECDF for a one-dimensional array of measurements.\"\"\"\n",
    "    # Number of data points: n\n",
    "    n = len(data)\n",
    "\n",
    "    # x-data for the ECDF: x\n",
    "    x = np.sort(data)\n",
    "\n",
    "    # y-data for the ECDF: y\n",
    "    y = np.arange(1, len(x)+1) / n\n",
    "\n",
    "    return x, y\n",
    "\n",
    "# Compute x,y values for ECDFs\n",
    "x_control, y_control = ecdf(control)\n",
    "x_treated, y_treated = ecdf(treated)\n",
    "\n",
    "# Plot the ECDFs\n",
    "plt.plot(x_control, y_control, marker='.', linestyle='none')\n",
    "plt.plot(x_treated, y_treated, marker='.', linestyle='none')\n",
    "\n",
    "# Set the margins\n",
    "plt.margins(0.02)\n",
    "\n",
    "# Add a legend\n",
    "plt.legend(('control', 'treated'), loc='lower right')\n",
    "\n",
    "# Label axes and show plot\n",
    "plt.xlabel('millions of alive sperm per mL')\n",
    "plt.ylabel('ECDF')\n",
    "plt.show()"
   ]
  },
  {
   "cell_type": "markdown",
   "metadata": {},
   "source": [
    "El ejercicio es similar al caso anterior, pero se van a crear unas funciones para facilitarlo:"
   ]
  },
  {
   "cell_type": "code",
   "execution_count": 123,
   "metadata": {},
   "outputs": [],
   "source": [
    "def bootstrap_replicate_1d(data, func):\n",
    "    \"\"\"Generate bootstrap replicate of 1D data.\"\"\"\n",
    "    bs_sample = np.random.choice(data, len(data))\n",
    "    return func(bs_sample)\n",
    "\n",
    "def draw_bs_reps(data, func, size=1):\n",
    "    \"\"\"Draw bootstrap replicates.\"\"\"\n",
    "\n",
    "    # Initialize array of replicates: bs_replicates\n",
    "    bs_replicates = np.empty(size)\n",
    "\n",
    "    # Generate replicates\n",
    "    for i in range(size):\n",
    "        bs_replicates[i] = bootstrap_replicate_1d(data, func)\n",
    "\n",
    "    return bs_replicates"
   ]
  },
  {
   "cell_type": "code",
   "execution_count": 128,
   "metadata": {},
   "outputs": [
    {
     "ename": "TypeError",
     "evalue": "only integer scalar arrays can be converted to a scalar index",
     "output_type": "error",
     "traceback": [
      "\u001b[1;31m---------------------------------------------------------------------------\u001b[0m",
      "\u001b[1;31mTypeError\u001b[0m                                 Traceback (most recent call last)",
      "\u001b[1;32m<ipython-input-128-a19b99c953ca>\u001b[0m in \u001b[0;36m<module>\u001b[1;34m\u001b[0m\n\u001b[0;32m      3\u001b[0m \u001b[1;33m\u001b[0m\u001b[0m\n\u001b[0;32m      4\u001b[0m \u001b[1;31m# Compute mean of pooled data: mean_count\u001b[0m\u001b[1;33m\u001b[0m\u001b[1;33m\u001b[0m\u001b[1;33m\u001b[0m\u001b[0m\n\u001b[1;32m----> 5\u001b[1;33m \u001b[0mmean_count\u001b[0m \u001b[1;33m=\u001b[0m \u001b[0mnp\u001b[0m\u001b[1;33m.\u001b[0m\u001b[0mconcatenate\u001b[0m\u001b[1;33m(\u001b[0m\u001b[0mcontrol\u001b[0m\u001b[1;33m,\u001b[0m \u001b[0mtreated\u001b[0m\u001b[1;33m)\u001b[0m\u001b[1;33m\u001b[0m\u001b[1;33m\u001b[0m\u001b[0m\n\u001b[0m\u001b[0;32m      6\u001b[0m \u001b[1;33m\u001b[0m\u001b[0m\n\u001b[0;32m      7\u001b[0m \u001b[1;31m# Generate shifted data sets\u001b[0m\u001b[1;33m\u001b[0m\u001b[1;33m\u001b[0m\u001b[1;33m\u001b[0m\u001b[0m\n",
      "\u001b[1;31mTypeError\u001b[0m: only integer scalar arrays can be converted to a scalar index"
     ]
    }
   ],
   "source": [
    "# Compute the difference in mean sperm count: diff_means\n",
    "diff_means = (np.mean(control) - np.mean(treated))\n",
    "\n",
    "# Compute mean of pooled data: mean_count\n",
    "mean_count = np.concatenate(control, treated)\n",
    "\n",
    "# Generate shifted data sets\n",
    "control_shifted = control - np.mean(control) + mean_count\n",
    "treated_shifted = treated - np.mean(treated) + mean_count\n",
    "\n",
    "# Generate bootstrap replicates\n",
    "bs_reps_control = draw_bs_reps(control_shifted,\n",
    "                       np.mean, size=9999)\n",
    "bs_reps_treated = draw_bs_reps(treated_shifted,\n",
    "                       np.mean, size=9999)\n",
    "\n",
    "# Get replicates of difference of means: bs_replicates\n",
    "bs_replicates = np.mean(bs_reps_control) - np.mean(treated_shifted)\n",
    "\n",
    "# Compute and print p-value: p\n",
    "p = np.sum(abs(bs_replicates) >= (np.mean(control) - np.mean(treated))) / (len(bs_replicates)+1)\n",
    "print('p-value =', p)"
   ]
  },
  {
   "cell_type": "markdown",
   "metadata": {},
   "source": [
    "### Bootstrapping para la creación de intervalos de confianza"
   ]
  },
  {
   "cell_type": "markdown",
   "metadata": {},
   "source": [
    "Las técnicas de bootstrapping también se pueden utilizar para elaborar intervalos de confianza.\n",
    "\n",
    "Midiendo la diferencia en la profundidad de los picos de ciertas especies de pájaros en las galápagos, se descubrió que habían cambiado con el paso de los años. Se tiene una muestra de 1975 y una muestra de 2012.\n",
    "\n",
    "A continuación se va a computar la diferencia en la media y se va a calcular un intervalo de confianza del 99% en la diferencia de la media."
   ]
  },
  {
   "cell_type": "code",
   "execution_count": 130,
   "metadata": {},
   "outputs": [],
   "source": [
    "bd_1975 = np.array([ 8.4 ,  8.8 ,  8.4 ,  8.  ,  7.9 ,  8.9 ,  8.6 ,  8.5 ,  8.9 ,\n",
    "        9.1 ,  8.6 ,  9.8 ,  8.2 ,  9.  ,  9.7 ,  8.6 ,  8.2 ,  9.  ,\n",
    "        8.4 ,  8.6 ,  8.9 ,  9.1 ,  8.3 ,  8.7 ,  9.6 ,  8.5 ,  9.1 ,\n",
    "        9.  ,  9.2 ,  9.9 ,  8.6 ,  9.2 ,  8.4 ,  8.9 ,  8.5 , 10.4 ,\n",
    "        9.6 ,  9.1 ,  9.3 ,  9.3 ,  8.8 ,  8.3 ,  8.8 ,  9.1 , 10.1 ,\n",
    "        8.9 ,  9.2 ,  8.5 , 10.2 , 10.1 ,  9.2 ,  9.7 ,  9.1 ,  8.5 ,\n",
    "        8.2 ,  9.  ,  9.3 ,  8.  ,  9.1 ,  8.1 ,  8.3 ,  8.7 ,  8.8 ,\n",
    "        8.6 ,  8.7 ,  8.  ,  8.8 ,  9.  ,  9.1 ,  9.74,  9.1 ,  9.8 ,\n",
    "       10.4 ,  8.3 ,  9.44,  9.04,  9.  ,  9.05,  9.65,  9.45,  8.65,\n",
    "        9.45,  9.45,  9.05,  8.75,  9.45,  8.35])\n",
    "\n",
    "bd_2012 = np.array([ 9.4 ,  8.9 ,  9.5 , 11.  ,  8.7 ,  8.4 ,  9.1 ,  8.7 , 10.2 ,\n",
    "        9.6 ,  8.85,  8.8 ,  9.5 ,  9.2 ,  9.  ,  9.8 ,  9.3 ,  9.  ,\n",
    "       10.2 ,  7.7 ,  9.  ,  9.5 ,  9.4 ,  8.  ,  8.9 ,  9.4 ,  9.5 ,\n",
    "        8.  , 10.  ,  8.95,  8.2 ,  8.8 ,  9.2 ,  9.4 ,  9.5 ,  8.1 ,\n",
    "        9.5 ,  8.4 ,  9.3 ,  9.3 ,  9.6 ,  9.2 , 10.  ,  8.9 , 10.5 ,\n",
    "        8.9 ,  8.6 ,  8.8 ,  9.15,  9.5 ,  9.1 , 10.2 ,  8.4 , 10.  ,\n",
    "       10.2 ,  9.3 , 10.8 ,  8.3 ,  7.8 ,  9.8 ,  7.9 ,  8.9 ,  7.7 ,\n",
    "        8.9 ,  9.4 ,  9.4 ,  8.5 ,  8.5 ,  9.6 , 10.2 ,  8.8 ,  9.5 ,\n",
    "        9.3 ,  9.  ,  9.2 ,  8.7 ,  9.  ,  9.1 ,  8.7 ,  9.4 ,  9.8 ,\n",
    "        8.6 , 10.6 ,  9.  ,  9.5 ,  8.1 ,  9.3 ,  9.6 ,  8.5 ,  8.2 ,\n",
    "        8.  ,  9.5 ,  9.7 ,  9.9 ,  9.1 ,  9.5 ,  9.8 ,  8.4 ,  8.3 ,\n",
    "        9.6 ,  9.4 , 10.  ,  8.9 ,  9.1 ,  9.8 ,  9.3 ,  9.9 ,  8.9 ,\n",
    "        8.5 , 10.6 ,  9.3 ,  8.9 ,  8.9 ,  9.7 ,  9.8 , 10.5 ,  8.4 ,\n",
    "       10.  ,  9.  ,  8.7 ,  8.8 ,  8.4 ,  9.3 ,  9.8 ,  8.9 ,  9.8 ,\n",
    "        9.1 ])"
   ]
  },
  {
   "cell_type": "code",
   "execution_count": 133,
   "metadata": {},
   "outputs": [
    {
     "name": "stdout",
     "output_type": "stream",
     "text": [
      "difference of means = 0.22622047244094645 mm\n",
      "95% confidence interval = [0.05935356 0.39088832] mm\n"
     ]
    }
   ],
   "source": [
    "def bootstrap_replicate_1d(data, func):\n",
    "    \"\"\"Generate bootstrap replicate of 1D data.\n",
    "    It has the same lenght of original data, but select samples from the data with replacement.\n",
    "    At the end, applies with the data the selected function\"\"\"\n",
    "    bs_sample = np.random.choice(data, len(data))\n",
    "    return func(bs_sample)\n",
    "\n",
    "def draw_bs_reps(data, func, size=1):\n",
    "    \"\"\"Draw bootstrap replicates.\n",
    "    Uses bootstrap_replicate_1d_ to generate an array of N=size bootstrap_replicates_1d\"\"\"\n",
    "\n",
    "    # Initialize array of replicates: bs_replicates\n",
    "    bs_replicates = np.empty(size)\n",
    "\n",
    "    # Generate replicates\n",
    "    for i in range(size):\n",
    "        bs_replicates[i] = bootstrap_replicate_1d(data, func)\n",
    "\n",
    "    return bs_replicates\n",
    "\n",
    "# Compute the difference of the sample means: mean_diff\n",
    "mean_diff = np.mean(bd_2012) - np.mean(bd_1975)\n",
    "\n",
    "# Get bootstrap replicates of means\n",
    "bs_replicates_1975 = draw_bs_reps(bd_1975, np.mean, 10000)\n",
    "bs_replicates_2012 = draw_bs_reps(bd_2012, np.mean, 10000)\n",
    "\n",
    "# Compute samples of difference of means: bs_diff_replicates\n",
    "bs_diff_replicates = bs_replicates_2012 - bs_replicates_1975\n",
    "\n",
    "# Compute 95% confidence interval: conf_int\n",
    "conf_int = np.percentile(bs_diff_replicates, [2.5, 97.5])\n",
    "\n",
    "# Print the results\n",
    "print('difference of means =', mean_diff, 'mm')\n",
    "print('95% confidence interval =', conf_int, 'mm')"
   ]
  },
  {
   "cell_type": "markdown",
   "metadata": {},
   "source": [
    "Los datos muestran diferencia en las medias. ¿Es esto casual? \n",
    "\n",
    "Para comprobarlo, habría que hacer test de permutación."
   ]
  },
  {
   "cell_type": "code",
   "execution_count": 136,
   "metadata": {},
   "outputs": [
    {
     "name": "stdout",
     "output_type": "stream",
     "text": [
      "p = 0.0033\n"
     ]
    }
   ],
   "source": [
    "# Compute mean of combined data set: combined_mean\n",
    "combined_mean = np.mean(np.concatenate((bd_1975, bd_2012)))\n",
    "\n",
    "# Shift the samples\n",
    "bd_1975_shifted = bd_1975 - np.mean(bd_1975)+ combined_mean\n",
    "bd_2012_shifted = bd_2012 - np.mean(bd_2012)+ combined_mean\n",
    "\n",
    "# Get bootstrap replicates of shifted data sets\n",
    "bs_replicates_1975 = draw_bs_reps(bd_1975_shifted, np.mean, 9999)\n",
    "bs_replicates_2012 = draw_bs_reps(bd_2012_shifted, np.mean, 9999)\n",
    "\n",
    "# Compute replicates of difference of means: bs_diff_replicates\n",
    "bs_diff_replicates = bs_replicates_2012 - bs_replicates_1975\n",
    "\n",
    "# Compute the p-value\n",
    "p = np.sum(bs_diff_replicates >= mean_diff) / (len(bs_diff_replicates)+1)\n",
    "\n",
    "# Print p-value\n",
    "print('p =', p)"
   ]
  },
  {
   "cell_type": "markdown",
   "metadata": {},
   "source": [
    "El p-valor de 0.0033 sufiere que hay significancia estadística de que existe tal diferencia."
   ]
  }
 ],
 "metadata": {
  "kernelspec": {
   "display_name": "Python 3",
   "language": "python",
   "name": "python3"
  },
  "language_info": {
   "codemirror_mode": {
    "name": "ipython",
    "version": 3
   },
   "file_extension": ".py",
   "mimetype": "text/x-python",
   "name": "python",
   "nbconvert_exporter": "python",
   "pygments_lexer": "ipython3",
   "version": "3.7.4"
  }
 },
 "nbformat": 4,
 "nbformat_minor": 2
}
